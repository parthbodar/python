{
 "cells": [
  {
   "cell_type": "code",
   "execution_count": 1,
   "id": "1a504a76",
   "metadata": {},
   "outputs": [],
   "source": [
    "import numpy as np"
   ]
  },
  {
   "cell_type": "markdown",
   "id": "d1d635a7",
   "metadata": {},
   "source": [
    "# how to create an empty and a full numpy array?"
   ]
  },
  {
   "cell_type": "code",
   "execution_count": 2,
   "id": "20b149a3",
   "metadata": {},
   "outputs": [
    {
     "name": "stdout",
     "output_type": "stream",
     "text": [
      "[[4.45057637e-308 1.78021527e-306 8.45549797e-307 1.37962049e-306]\n",
      " [1.11260619e-306 1.78010255e-306 9.79054228e-307 4.45057637e-308]\n",
      " [8.45596650e-307 9.34602321e-307 4.94065646e-322 4.93432906e+257]]\n"
     ]
    }
   ],
   "source": [
    "a = np.empty((3, 4))\n",
    "print(a)"
   ]
  },
  {
   "cell_type": "markdown",
   "id": "fc3ce52a",
   "metadata": {},
   "source": [
    "# create numpy array filled with all zeros?"
   ]
  },
  {
   "cell_type": "code",
   "execution_count": 6,
   "id": "314fc156",
   "metadata": {},
   "outputs": [
    {
     "name": "stdout",
     "output_type": "stream",
     "text": [
      "[0. 0. 0.]\n"
     ]
    }
   ],
   "source": [
    "a=np.zeros(3)\n",
    "print(a)"
   ]
  },
  {
   "cell_type": "markdown",
   "id": "451be769",
   "metadata": {},
   "source": [
    "\n",
    "# created a numpy array filled with all ones"
   ]
  },
  {
   "cell_type": "code",
   "execution_count": 8,
   "id": "391c275a",
   "metadata": {},
   "outputs": [
    {
     "data": {
      "text/plain": [
       "array([1., 1.])"
      ]
     },
     "execution_count": 8,
     "metadata": {},
     "output_type": "execute_result"
    }
   ],
   "source": [
    "a = np.ones(2)\n",
    "a"
   ]
  },
  {
   "cell_type": "markdown",
   "id": "e589ecfe",
   "metadata": {},
   "source": [
    "# created whether a numpy  array contains a specified row"
   ]
  },
  {
   "cell_type": "code",
   "execution_count": 9,
   "id": "ee3707d1",
   "metadata": {},
   "outputs": [
    {
     "name": "stdout",
     "output_type": "stream",
     "text": [
      "Specified row is in the array.\n"
     ]
    }
   ],
   "source": [
    "\n",
    "array = np.array([[1, 2, 3],\n",
    "                  [4, 5, 6],\n",
    "                  [7, 8, 9]])\n",
    "\n",
    "\n",
    "_row = np.array([4, 5, 6])\n",
    "\n",
    "\n",
    "if any(np.array_equal(row, _row) for row in array):\n",
    "    print(\"Specified row is in the array.\")\n",
    "else:\n",
    "    print(\"Specified row is not in the array.\")\n"
   ]
  },
  {
   "cell_type": "raw",
   "id": "58a77c85",
   "metadata": {},
   "source": [
    "how to remove rows in numpy array that contains non-numeric values\n",
    "?"
   ]
  },
  {
   "cell_type": "code",
   "execution_count": 10,
   "id": "273a0e4a",
   "metadata": {},
   "outputs": [
    {
     "name": "stdout",
     "output_type": "stream",
     "text": [
      "Original Array:\n",
      "[[ 1.  2.  3.]\n",
      " [ 4. nan  6.]\n",
      " [ 7.  8. inf]]\n",
      "\n",
      "Array after removing rows with non-numeric values:\n",
      "[[1. 2. 3.]]\n"
     ]
    }
   ],
   "source": []
  },
  {
   "cell_type": "raw",
   "id": "859b3104",
   "metadata": {},
   "source": [
    "remove single-dimensional entries from the shape of an array"
   ]
  },
  {
   "cell_type": "code",
   "execution_count": 11,
   "id": "36b1777d",
   "metadata": {},
   "outputs": [
    {
     "data": {
      "text/plain": [
       "array([1., 1.])"
      ]
     },
     "execution_count": 11,
     "metadata": {},
     "output_type": "execute_result"
    }
   ],
   "source": [
    "a"
   ]
  },
  {
   "cell_type": "code",
   "execution_count": 12,
   "id": "58a357c4",
   "metadata": {},
   "outputs": [
    {
     "data": {
      "text/plain": [
       "(2,)"
      ]
     },
     "execution_count": 12,
     "metadata": {},
     "output_type": "execute_result"
    }
   ],
   "source": [
    "a.shape"
   ]
  },
  {
   "cell_type": "raw",
   "id": "ffc48bdb",
   "metadata": {},
   "source": [
    "find the number of occurrences of a sequence in a numpy array "
   ]
  },
  {
   "cell_type": "code",
   "execution_count": 16,
   "id": "c8bebb71",
   "metadata": {},
   "outputs": [],
   "source": [
    "b = np.array([[2, 3, 4],[2,4,5]])"
   ]
  },
  {
   "cell_type": "code",
   "execution_count": 17,
   "id": "c89b01b1",
   "metadata": {},
   "outputs": [
    {
     "data": {
      "text/plain": [
       "array([[2, 3, 4],\n",
       "       [2, 4, 5]])"
      ]
     },
     "execution_count": 17,
     "metadata": {},
     "output_type": "execute_result"
    }
   ],
   "source": [
    "b"
   ]
  },
  {
   "cell_type": "raw",
   "id": "66bf5b5d",
   "metadata": {},
   "source": [
    "find the most frequent value in a numpy array "
   ]
  },
  {
   "cell_type": "code",
   "execution_count": 20,
   "id": "49581ef9",
   "metadata": {},
   "outputs": [
    {
     "name": "stdout",
     "output_type": "stream",
     "text": [
      "[1 2 3 4 5 1 2 1 1 1]\n",
      "Most frequent value  array:\n",
      "1\n"
     ]
    }
   ],
   "source": [
    " \n",
    "x = np.array([1,2,3,4,5,1,2,1,1,1]) \n",
    "print(x) \n",
    "print(\"Most frequent value  array:\") \n",
    "print(np.bincount(x).argmax())"
   ]
  },
  {
   "cell_type": "raw",
   "id": "b3932913",
   "metadata": {},
   "source": [
    "combining a one and a two-dimensional numpy array"
   ]
  },
  {
   "cell_type": "code",
   "execution_count": 21,
   "id": "44626d4c",
   "metadata": {},
   "outputs": [
    {
     "name": "stdout",
     "output_type": "stream",
     "text": [
      "[[1 2 3]\n",
      " [4 5 6]\n",
      " [7 8 9]]\n"
     ]
    }
   ],
   "source": [
    "import numpy as np\n",
    "\n",
    "\n",
    "one = np.array([1, 2, 3])\n",
    "\n",
    "\n",
    "two = np.array([[4, 5, 6],\n",
    "                          [7, 8, 9]])\n",
    "combined_array = np.vstack((one, two))\n",
    "print(combined_array)\n"
   ]
  },
  {
   "cell_type": "raw",
   "id": "69aeaf4f",
   "metadata": {},
   "source": [
    "how to bulid an array of all combinations of two numpy arraays?"
   ]
  },
  {
   "cell_type": "code",
   "execution_count": 24,
   "id": "2b64df2c",
   "metadata": {},
   "outputs": [
    {
     "name": "stdout",
     "output_type": "stream",
     "text": [
      "[[1 4]\n",
      " [2 4]\n",
      " [3 4]\n",
      " [1 5]\n",
      " [2 5]\n",
      " [3 5]\n",
      " [1 6]\n",
      " [2 6]\n",
      " [3 6]]\n"
     ]
    }
   ],
   "source": [
    "import numpy as np\n",
    "\n",
    "array1 = np.array([1, 2, 3])\n",
    "array2 = np.array([4, 5, 6])\n",
    "\n",
    "_array1, _array2 = np.meshgrid(array1, array2)\n",
    "\n",
    "combinations = np.vstack((_array1.ravel(), _array2.ravel())).T\n",
    "\n",
    "print(combinations)\n"
   ]
  },
  {
   "cell_type": "code",
   "execution_count": null,
   "id": "0cedb148",
   "metadata": {},
   "outputs": [],
   "source": []
  },
  {
   "cell_type": "code",
   "execution_count": null,
   "id": "9f8f2de0",
   "metadata": {},
   "outputs": [],
   "source": []
  },
  {
   "cell_type": "code",
   "execution_count": null,
   "id": "59fdcfea",
   "metadata": {},
   "outputs": [],
   "source": []
  },
  {
   "cell_type": "code",
   "execution_count": null,
   "id": "ab314508",
   "metadata": {},
   "outputs": [],
   "source": []
  },
  {
   "cell_type": "code",
   "execution_count": null,
   "id": "8af27d3a",
   "metadata": {},
   "outputs": [],
   "source": []
  },
  {
   "cell_type": "code",
   "execution_count": null,
   "id": "3de5a3c7",
   "metadata": {},
   "outputs": [],
   "source": []
  }
 ],
 "metadata": {
  "kernelspec": {
   "display_name": "Python 3 (ipykernel)",
   "language": "python",
   "name": "python3"
  },
  "language_info": {
   "codemirror_mode": {
    "name": "ipython",
    "version": 3
   },
   "file_extension": ".py",
   "mimetype": "text/x-python",
   "name": "python",
   "nbconvert_exporter": "python",
   "pygments_lexer": "ipython3",
   "version": "3.10.9"
  }
 },
 "nbformat": 4,
 "nbformat_minor": 5
}
