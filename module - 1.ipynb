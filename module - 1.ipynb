{
 "cells": [
  {
   "cell_type": "markdown",
   "id": "bed2ae7b",
   "metadata": {},
   "source": [
    "1]what is software?\n",
    "\n",
    "        "
   ]
  },
  {
   "cell_type": "raw",
   "id": "1536198a",
   "metadata": {},
   "source": [
    "Software is a set of instructions, data or programs used to operate computers and execute specific tasks."
   ]
  },
  {
   "cell_type": "markdown",
   "id": "ad69616d",
   "metadata": {},
   "source": [
    "2. What are the types of Applications?"
   ]
  },
  {
   "cell_type": "raw",
   "id": "61c7f00d",
   "metadata": {},
   "source": [
    "Word Processing Software.\n",
    "Spreadsheet Software.\n",
    "Presentation Software. \n",
    "Multimedia Software. \n",
    "Web Browsers. \n",
    "Educational Software.\n",
    "Graphics Software. \n",
    "Freeware."
   ]
  },
  {
   "cell_type": "markdown",
   "id": "38f44857",
   "metadata": {},
   "source": [
    "3. What is programing?"
   ]
  },
  {
   "cell_type": "raw",
   "id": "dc6957ae",
   "metadata": {},
   "source": [
    "Programming refers to a technological process for telling a computer which tasks to perform in order to solve problems. "
   ]
  },
  {
   "cell_type": "markdown",
   "id": "40d42f73",
   "metadata": {},
   "source": [
    "4. What is Python?\n"
   ]
  },
  {
   "cell_type": "raw",
   "id": "aa50c87d",
   "metadata": {},
   "source": [
    "Python is an interpreted, object-oriented, high-level programming language with dynamic semantics."
   ]
  },
  {
   "cell_type": "code",
   "execution_count": null,
   "id": "47df6513",
   "metadata": {},
   "outputs": [],
   "source": []
  }
 ],
 "metadata": {
  "kernelspec": {
   "display_name": "Python 3 (ipykernel)",
   "language": "python",
   "name": "python3"
  },
  "language_info": {
   "codemirror_mode": {
    "name": "ipython",
    "version": 3
   },
   "file_extension": ".py",
   "mimetype": "text/x-python",
   "name": "python",
   "nbconvert_exporter": "python",
   "pygments_lexer": "ipython3",
   "version": "3.10.9"
  }
 },
 "nbformat": 4,
 "nbformat_minor": 5
}
