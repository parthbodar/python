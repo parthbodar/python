{
 "cells": [
  {
   "cell_type": "markdown",
   "id": "936d2e2f",
   "metadata": {},
   "source": [
    "1.What is File function in python? What is keywords to create and write \n",
    "file."
   ]
  },
  {
   "cell_type": "code",
   "execution_count": 1,
   "id": "14005e0b",
   "metadata": {},
   "outputs": [
    {
     "name": "stdout",
     "output_type": "stream",
     "text": [
      "parth bodar \n",
      "\n",
      "\n",
      "\n",
      "\n",
      "\n",
      "data science \n",
      "\n",
      "\n",
      "\n",
      "1234567890\n"
     ]
    }
   ],
   "source": [
    "\n",
    "file = open('untitled.txt', 'r')\n",
    "\n",
    "\n",
    "for each in file:\n",
    "\tprint (each)\n"
   ]
  },
  {
   "cell_type": "markdown",
   "id": "803b325a",
   "metadata": {},
   "source": [
    "2.Write a Python program to read an entire text file. "
   ]
  },
  {
   "cell_type": "code",
   "execution_count": 4,
   "id": "e807ce79",
   "metadata": {},
   "outputs": [
    {
     "name": "stdout",
     "output_type": "stream",
     "text": [
      "parth bodar \n",
      "\n",
      "\n",
      "data science \n",
      "\n",
      "1234567890\n"
     ]
    }
   ],
   "source": [
    "def file_read(fname):\n",
    "        txt = open(fname)\n",
    "        print(txt.read())\n",
    "\n",
    "file_read('untitled.txt')"
   ]
  },
  {
   "cell_type": "markdown",
   "id": "3e8198c0",
   "metadata": {},
   "source": [
    "3.Write a Python program to append text to a file and display the text."
   ]
  },
  {
   "cell_type": "code",
   "execution_count": 7,
   "id": "f29f59ea",
   "metadata": {},
   "outputs": [
    {
     "name": "stdout",
     "output_type": "stream",
     "text": [
      "\n",
      "\t\tEnter Data TO Append  In file.txt : ljgisfd\n",
      "parth bodar \n",
      "\n",
      "\n",
      "data science \n",
      "\n",
      "1234567890ljgisfd\n"
     ]
    }
   ],
   "source": [
    "f = open(\"untitled.txt\",\"a\")\n",
    "str = input(\"\\n\\t\\tEnter Data TO Append  In file.txt : \")\n",
    "f.write(str)\n",
    "f = open(\"untitled.txt\",\"r\")\n",
    "print(f.read())\n",
    "f.close()"
   ]
  },
  {
   "cell_type": "markdown",
   "id": "1701f0da",
   "metadata": {},
   "source": [
    "4.Write a Python program to read first n lines of a file."
   ]
  },
  {
   "cell_type": "code",
   "execution_count": 9,
   "id": "ea428a2b",
   "metadata": {},
   "outputs": [
    {
     "name": "stdout",
     "output_type": "stream",
     "text": [
      "enter the number1\n",
      "parth bodar \n",
      "\n"
     ]
    }
   ],
   "source": [
    "n= int(input(\"enter the number\"))\n",
    "\n",
    "f=open(\"untitled.txt\",\"r\")\n",
    "for i in range(0,n):\n",
    "    print(f.readline())\n",
    "f.close()"
   ]
  },
  {
   "cell_type": "markdown",
   "id": "a7bbbf2e",
   "metadata": {},
   "source": [
    "5.Write a Python program to read last n lines of a file. "
   ]
  },
  {
   "cell_type": "code",
   "execution_count": 19,
   "id": "55b112a5",
   "metadata": {},
   "outputs": [
    {
     "name": "stdout",
     "output_type": "stream",
     "text": [
      "enter file open: 1\n",
      "['1234567890ljgisfd']\n"
     ]
    }
   ],
   "source": [
    "num =int(input(\"enter file open: \"))\n",
    "f = open(\"untitled.txt\",\"r\")\n",
    "lines = f.readlines()\n",
    "print(lines[-num:])\n",
    "\n",
    "f.close()"
   ]
  },
  {
   "cell_type": "markdown",
   "id": "4254158f",
   "metadata": {},
   "source": [
    "6.write a python program ton read a life a file line by line store it into a variable."
   ]
  },
  {
   "cell_type": "code",
   "execution_count": 21,
   "id": "0e7ce042",
   "metadata": {},
   "outputs": [
    {
     "name": "stdout",
     "output_type": "stream",
     "text": [
      "[' name  : parth bodar \\n', '\\n', '\\n', ' subject : data science \\n', ' \\n', 'id : 1234567890ljgisfd']\n"
     ]
    }
   ],
   "source": [
    "ys = open(\"untitled.txt\",\"r\")\n",
    "print(ys.readlines())"
   ]
  },
  {
   "cell_type": "markdown",
   "id": "22f0c331",
   "metadata": {},
   "source": [
    "7.write a python program to read a file line by line store it into a variable."
   ]
  },
  {
   "cell_type": "code",
   "execution_count": 24,
   "id": "e3f05800",
   "metadata": {},
   "outputs": [
    {
     "name": "stdout",
     "output_type": "stream",
     "text": [
      "[' name  : parth bodar \\n', '\\n', '\\n', ' subject : data science \\n', ' \\n', 'id : 1234567890ljgisfd']\n"
     ]
    }
   ],
   "source": [
    "ys = open(\"untitled.txt\",\"r\")\n",
    "sy = ys.readlines()\n",
    "print(sy)"
   ]
  },
  {
   "cell_type": "markdown",
   "id": "37a7f115",
   "metadata": {},
   "source": [
    "8.write a python program to  find the longest words."
   ]
  },
  {
   "cell_type": "code",
   "execution_count": 27,
   "id": "09a4dafe",
   "metadata": {},
   "outputs": [
    {
     "name": "stdout",
     "output_type": "stream",
     "text": [
      "['m', 'y', ' ', 'n', 'a', 'm', 'e', ' ', 'i', 's', ' ', 'p', 'a', 'r', 't', 'h', ' ', 'b', 'o', 'd', 'a', 'r']\n"
     ]
    }
   ],
   "source": [
    "str1 = \"my name is parth bodar\"\n",
    "str1 = sorted(str1,key=len)\n",
    "print(str1)"
   ]
  },
  {
   "cell_type": "markdown",
   "id": "6841d268",
   "metadata": {},
   "source": [
    "9.write a python program to count the number of lines in to text file."
   ]
  },
  {
   "cell_type": "code",
   "execution_count": 28,
   "id": "1ce82d9c",
   "metadata": {},
   "outputs": [
    {
     "name": "stdout",
     "output_type": "stream",
     "text": [
      "6\n"
     ]
    }
   ],
   "source": [
    "n = open(\"untitled.txt\",\"r\")\n",
    "print(len(n.readlines()))"
   ]
  },
  {
   "cell_type": "markdown",
   "id": "2ebdc78f",
   "metadata": {},
   "source": [
    "10.write a ptyhon program to count the frequency of words in a life."
   ]
  },
  {
   "cell_type": "code",
   "execution_count": 39,
   "id": "515ac400",
   "metadata": {},
   "outputs": [
    {
     "name": "stdout",
     "output_type": "stream",
     "text": [
      "['Hello', 'i', 'am', 'learning', 'python', 'hello', 'i', 'am', 'python']\n",
      "{'Hello': 1, 'i': 2, 'am': 2, 'learning': 1, 'python': 2, 'hello': 1}\n"
     ]
    }
   ],
   "source": [
    "f = open(\"untitled.txt\",\"r\")\n",
    "a = f.read()\n",
    "l1 = a.split(\" \")\n",
    "print(l1)\n",
    "count = {}\n",
    "for i  in l1:\n",
    "    if i in count.keys():\n",
    "        count[i]+=1\n",
    "    else:\n",
    "        count.update({i:1})\n",
    "print(count)"
   ]
  },
  {
   "cell_type": "markdown",
   "id": "13aa4b35",
   "metadata": {},
   "source": [
    "11.write a python program to write a list a file"
   ]
  },
  {
   "cell_type": "code",
   "execution_count": 51,
   "id": "12a80002",
   "metadata": {},
   "outputs": [
    {
     "data": {
      "text/plain": [
       "1"
      ]
     },
     "execution_count": 51,
     "metadata": {},
     "output_type": "execute_result"
    }
   ],
   "source": [
    "l1 = [\"yutvik\",\"parth\",\"manai\"]\n",
    "a = open(\"parth.txt\",\"w\")\n",
    "a.write(\"[\")\n",
    "for i in l1:\n",
    "    a.write(i+\",\"+\"\\n\")\n",
    "a.write(\"]\")"
   ]
  },
  {
   "cell_type": "markdown",
   "id": "e609c237",
   "metadata": {},
   "source": [
    "12.wtite a python program to copy the contents of a file to another file."
   ]
  },
  {
   "cell_type": "code",
   "execution_count": 54,
   "id": "4d2bbce3",
   "metadata": {},
   "outputs": [
    {
     "name": "stdout",
     "output_type": "stream",
     "text": [
      "Hello i am learning python hello i am python\n"
     ]
    }
   ],
   "source": [
    "a = open(\"untitled.txt\",\"r\")\n",
    "b = open(\"demo2.txt\",\"w\")\n",
    "for i in a :\n",
    "    b.write(i)\n",
    "b.close()\n",
    "b = open(\"demo2.txt\",\"r\")\n",
    "print (b.read())"
   ]
  },
  {
   "cell_type": "markdown",
   "id": "2787fd15",
   "metadata": {},
   "source": [
    "13.explain exception handling ? what is an erroe in python?"
   ]
  },
  {
   "cell_type": "markdown",
   "id": "d058018e",
   "metadata": {},
   "source": [
    "-> EXCEPTION HENDLING:\n",
    "     If you have some suspicious code that may raise an exception,\n",
    "you can defend your program by placing the suspicious code in a try: block.\n",
    "After the try: block, include an except: statement,\n",
    "followed by a block of code which handles the problem as elegantly as possible.\n",
    "\n",
    ":-ERROR IN PYTHON-->>\n",
    "    total error 4\n",
    "    1]NameError\n",
    "    2]TypeError\n",
    "    3]IndexError\n",
    "    4]AttributeError\n",
    "    5]LogicalError"
   ]
  },
  {
   "cell_type": "markdown",
   "id": "1281a8ca",
   "metadata": {},
   "source": [
    "14.how many except statements can a try-except block have?  name some bulit in exception classes."
   ]
  },
  {
   "cell_type": "markdown",
   "id": "96176ae1",
   "metadata": {},
   "source": [
    " * Try-Except  *\n",
    "Assuming you mean optional blocks, then the answer would be the else block and the finally block.\n",
    "\n",
    "The else block is executed if none of the statements in the try block throw an exception, \n",
    "and the finally block is executed in all cases\n",
    "    # example    \n",
    ">>> try: \n",
    "...     raise Exception \n",
    "... except: \n",
    "...     print('exception raised') \n",
    "... else: \n",
    "...     print('all is well') \n",
    "... finally: \n",
    "...     print('executed either way') \n",
    "... \n",
    "exception raised \n",
    "executed either wa    \n",
    "    \n",
    "     * Built in Exections*        *Description*\n",
    "        \n",
    "1]ArithmeticError                  Raised when an error occurs in numeric calculations     \n",
    "2]AttributeError                   Raised when attribute reference or assignment fails \n",
    "3]Exception                        Base class for all exceptions\n",
    "4]FloatingPointError               Raised when a floating point calculation fails \n",
    "5]ImportError                      Raised when an imported module does not exist \n",
    "6]IndexError                       Raised when an index of a sequence does not exist \n",
    "7]KeyError                         Raised when a key does not exist in a dictionary   \n",
    "8]NameError                        Raised when a variable does not exist\n",
    "9]TypeError                        Raised when two different types are combined    \n",
    "10]ValueError                      Raised when there is a wrong value in a specified data type \n",
    " in many more error ...."
   ]
  },
  {
   "cell_type": "markdown",
   "id": "3d6bbd57",
   "metadata": {},
   "source": [
    "15.when will the else  part of try-except-else be executed?\n"
   ]
  },
  {
   "cell_type": "markdown",
   "id": "da82f74a",
   "metadata": {},
   "source": [
    "the try block lets you  test a block of code for error.\n",
    "the except block lets you handls the error. the else block lets you execute code when there is on error.\n",
    "the finally block lets you execute code,regardless of the result of the try-and except block"
   ]
  },
  {
   "cell_type": "markdown",
   "id": "d103edb6",
   "metadata": {},
   "source": [
    "16.can one block of except statement handling multiple exception."
   ]
  },
  {
   "cell_type": "markdown",
   "id": "72d086a0",
   "metadata": {},
   "source": [
    "when  is the block of except statements handle multiple exception,\n",
    "it is terminated if the exception is not handled. \n",
    "By handling multiple exceptions, a program can respond to different exceptions without terminating it.\n",
    "\n",
    "In Python, try-except blocks can be used to catch and respond to one or multiple exceptions.\n",
    "In cases where a process raises more than one possible exception, they can all be handled using a single except clause.\n",
    "\n",
    "There are several approaches for handling multiple exceptions in Python, the most common of which are discussed below."
   ]
  },
  {
   "cell_type": "markdown",
   "id": "3a39e7cb",
   "metadata": {},
   "source": [
    "17.when is the finally block executed?\n"
   ]
  },
  {
   "cell_type": "code",
   "execution_count": 59,
   "id": "f08986da",
   "metadata": {},
   "outputs": [
    {
     "name": "stdout",
     "output_type": "stream",
     "text": [
      "how old are you45\n",
      "you are 45 year old\n",
      "have a nice day\n"
     ]
    }
   ],
   "source": [
    "try:\n",
    "    age = int(input(\"how old are you\"))\n",
    "    print(f\"you are {age} year old\")\n",
    "except:\n",
    "    print(\"invaild integer was enterd\")\n",
    "finally:\n",
    "    print(\"have a nice day\")\n",
    "        "
   ]
  },
  {
   "cell_type": "markdown",
   "id": "fb3e5169",
   "metadata": {},
   "source": [
    "18.what happens when ,,1\"==1 is executed?"
   ]
  },
  {
   "cell_type": "markdown",
   "id": "46e4092e",
   "metadata": {},
   "source": [
    "what happens when ,,\"==1 is executed?\n",
    "ans: it simply answer to false and does not raise any exception."
   ]
  },
  {
   "cell_type": "markdown",
   "id": "2d66e610",
   "metadata": {},
   "source": [
    "19. How Do You Handle Exceptions With Try/Except/Finally In Python?Explain withcoding snippets. \n"
   ]
  },
  {
   "cell_type": "code",
   "execution_count": 67,
   "id": "c70d525d",
   "metadata": {},
   "outputs": [
    {
     "name": "stdout",
     "output_type": "stream",
     "text": [
      "zero divisionerror 1.3948038716250637\n",
      "this is always executed\n"
     ]
    }
   ],
   "source": [
    "try:\n",
    "    a = 10952\n",
    "    b = 7852\n",
    "    c = a/b\n",
    "    print(C)\n",
    "except:\n",
    "    print(\"zero divisionerror\",c)\n",
    "finally:\n",
    "    print(\"this is always executed\")\n",
    "    "
   ]
  },
  {
   "cell_type": "markdown",
   "id": "c043775c",
   "metadata": {},
   "source": [
    "20.write python program that user to enter only odd number else will raise  an exception "
   ]
  },
  {
   "cell_type": "code",
   "execution_count": 70,
   "id": "24fc94a6",
   "metadata": {},
   "outputs": [
    {
     "name": "stdout",
     "output_type": "stream",
     "text": [
      "enter your num1: \n",
      "1\n",
      "enter your num2: \n",
      "8\n",
      "the sum of these two number ris 18\n",
      "this line is very important\n"
     ]
    }
   ],
   "source": [
    " print(\"enter your num1: \")\n",
    "num1 = input()\n",
    "print(\"enter your num2: \")\n",
    "num2 =input()\n",
    "\n",
    "try:\n",
    "    print(\"the sum of these two number ris\",num1+num2)\n",
    "except exception as e :\n",
    "    print(e)\n",
    "print(\"this line is very important\")\n",
    "    "
   ]
  },
  {
   "cell_type": "markdown",
   "id": "2ddaffde",
   "metadata": {},
   "source": [
    "21.what are opps concepts ? is multiple inheritance suppoted in java"
   ]
  },
  {
   "cell_type": "markdown",
   "id": "b45b3046",
   "metadata": {},
   "source": [
    "OOP (object-oriented programming) concepts in Python include Class, Object, Method, Inheritance,\n",
    "    Polymorphism, Data Abstraction, and Encapsulation.\n",
    "   -  Java programming language does not permit you to extend more than one class is to avoid the issues\n",
    "    of multiple inheritance of state, which is the ability to inherit fields from multiple classes"
   ]
  },
  {
   "cell_type": "markdown",
   "id": "ddb8b06f",
   "metadata": {},
   "source": [
    "22.how to define a class in python ? what is self? give an exmple of a python class."
   ]
  },
  {
   "cell_type": "code",
   "execution_count": 92,
   "id": "990e75a3",
   "metadata": {},
   "outputs": [
    {
     "name": "stdout",
     "output_type": "stream",
     "text": [
      "Tesla\n",
      "Model S\n",
      "2022\n",
      "The Tesla Model S's engine is starting.\n",
      "The Tesla Model S is driving 100 miles.\n"
     ]
    }
   ],
   "source": [
    "# SELF represents the instance of class. This handy keyword allows you to access variables,\n",
    "#     attributes, and methods of a defined class in Python. The self parameter doesn't have to\n",
    "#     be named “self,” as you can call it by any other name\n",
    "#     class student:\n",
    "\n",
    "class Car:\n",
    "    def __init__(self, make, model, year):\n",
    "        self.make = make\n",
    "        self.model = model\n",
    "        self.year = year\n",
    "\n",
    "    def start_engine(self):\n",
    "        print(f\"The {self.make} {self.model}'s engine is starting.\")\n",
    "\n",
    "    def drive(self, distance):\n",
    "        print(f\"The {self.make} {self.model} is driving {distance} miles.\")\n",
    "\n",
    "# Creating an instance of the Car class\n",
    "my_car = Car(\"Tesla\", \"Model S\", 2022)\n",
    "\n",
    "# Accessing the attributes of the instance\n",
    "print(my_car.make)  # Output: Tesla\n",
    "print(my_car.model)  # Output: Model S\n",
    "print(my_car.year)  # Output: 2022\n",
    "\n",
    "# Calling the methods of the instance\n",
    "my_car.start_engine()  # Output: The Tesla Model S's engine is starting.\n",
    "my_car.drive(100)  # Output: The Tesla Model S is driving 100 miles.\n"
   ]
  },
  {
   "cell_type": "markdown",
   "id": "0f0524e7",
   "metadata": {},
   "source": [
    "23. what a python class named circle constructed by a radius and two  method which will compute the area perimeter of a circle "
   ]
  },
  {
   "cell_type": "code",
   "execution_count": 91,
   "id": "9a93ebe8",
   "metadata": {},
   "outputs": [
    {
     "name": "stdout",
     "output_type": "stream",
     "text": [
      "4.894209096285955e+90\n",
      "7.840361359615487e+45\n"
     ]
    }
   ],
   "source": [
    "class Circle():\n",
    "    def __init__(self, r):\n",
    "        self.radius = r\n",
    "\n",
    "    def area(self):\n",
    "        return self.radius**2*3.14\n",
    "    \n",
    "    def perimeter(self):\n",
    "        return 2*self.radius*3.14\n",
    "\n",
    "NewCircle = Circle(1248465184652147451215487451474512214784512147)\n",
    "print(NewCircle.area())\n",
    "print(NewCircle.perimeter())\n"
   ]
  },
  {
   "cell_type": "markdown",
   "id": "ef0a57d0",
   "metadata": {},
   "source": [
    "24.Explain Inheritance in Python with an example? What is init? Or What Is A Constructor In Python?"
   ]
  },
  {
   "cell_type": "markdown",
   "id": "f3870d6d",
   "metadata": {},
   "source": [
    "Inheritance relationship defines the classes that inherit from other classes as derived, subclass, or sub-type classes.\n",
    "   - The __init__ method is the Python equivalent of the C++ constructor in an object-oriented approach.\n",
    "   - Constructors in Python is a special method of a class for creating and initializing an object instance at that class.\n",
    "    "
   ]
  },
  {
   "cell_type": "markdown",
   "id": "edcfbfe9",
   "metadata": {},
   "source": [
    "25.what is instantiation in term of oop terminology?"
   ]
  },
  {
   "cell_type": "markdown",
   "id": "8e307ca4",
   "metadata": {},
   "source": [
    "->In object-oriented programming (OOP), an object is essentially an instance of a class. In OOP languages,\n",
    "    a class is like a blueprint where variables and methods are defined,\n",
    "    and each time a new instance of the class (instantiation) is created, \n",
    "    an object gets created hence the term object-oriented."
   ]
  },
  {
   "cell_type": "markdown",
   "id": "9fc05bcf",
   "metadata": {},
   "source": [
    "26.what is used to check whether an object o is an instance of class A?"
   ]
  },
  {
   "cell_type": "markdown",
   "id": "f4e29275",
   "metadata": {},
   "source": [
    "->The isinstance() function returns True if the specified object is of the specified type, otherwise False .\n",
    "    If the type parameter is a tuple, this function will return True if the object is one of the types in the tuple.\n"
   ]
  },
  {
   "cell_type": "markdown",
   "id": "5bba38f1",
   "metadata": {},
   "source": [
    "27.what relationship is apprepriate for course and faculty?"
   ]
  },
  {
   "cell_type": "markdown",
   "id": "3a98412c",
   "metadata": {},
   "source": [
    "->The reltionship between a Course and a Faculty member typically involves an association known as \"teaching\" or \"instructing.\" \n",
    "A Faculty member, often referred to as an instructor or professor,\n",
    "is responsible for teaching a specific Course or Courses within an educational institution such as a university or college\n",
    "\n",
    "Overall, the relationship between Course and Faculty depends on the structure and organization of the educational \n",
    "institution, but the fundamental association revolves around the Faculty member delivering instruction for a specific Course\n"
   ]
  },
  {
   "cell_type": "markdown",
   "id": "72f12fbe",
   "metadata": {},
   "source": [
    "28. what relationship is approprite for course and faculty?"
   ]
  },
  {
   "cell_type": "markdown",
   "id": "d0dec84c",
   "metadata": {},
   "source": [
    "->The relationship between a student and a person can vary depending on the context. In general, \n",
    "a student is a type of person who is engaged in learning activities, typically within an educational institution such as a \n",
    "school, college, or university. However, if we assume that by \"Person\" you mean a non-student individual, then the appropriate \n",
    "relationship would typically be that of a teacher and student, mentor and mentee, or simply acquaintances or friends"
   ]
  }
 ],
 "metadata": {
  "kernelspec": {
   "display_name": "Python 3 (ipykernel)",
   "language": "python",
   "name": "python3"
  },
  "language_info": {
   "codemirror_mode": {
    "name": "ipython",
    "version": 3
   },
   "file_extension": ".py",
   "mimetype": "text/x-python",
   "name": "python",
   "nbconvert_exporter": "python",
   "pygments_lexer": "ipython3",
   "version": "3.10.9"
  }
 },
 "nbformat": 4,
 "nbformat_minor": 5
}
