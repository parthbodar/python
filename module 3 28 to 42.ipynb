{
 "cells": [
  {
   "cell_type": "code",
   "execution_count": 1,
   "id": "efd04c79",
   "metadata": {},
   "outputs": [
    {
     "name": "stdout",
     "output_type": "stream",
     "text": [
      "[(10, 20, 30), (40, 50)]\n"
     ]
    }
   ],
   "source": [
    "#28)Write a Python program to remove an empty tuple(s) from a list of tuples.\n",
    "\n",
    "l=[( ),( ),(''),(10,20,30),(40,50)]\n",
    "l=[t for t in l if t]\n",
    "print(l)\n",
    "\n"
   ]
  },
  {
   "cell_type": "code",
   "execution_count": 2,
   "id": "9fbc7f0f",
   "metadata": {},
   "outputs": [
    {
     "name": "stdout",
     "output_type": "stream",
     "text": [
      "[(10, 40, 70), (20, 50, 80), (30, 60, 90)]\n"
     ]
    }
   ],
   "source": [
    "#29)Write a Python program to unzip a list of tuples into individual lists.\n",
    "\n",
    "l=[(10,20,30),(40,50,60),(70,80,90)]\n",
    "print(list(zip(*l)))"
   ]
  },
  {
   "cell_type": "code",
   "execution_count": 3,
   "id": "4ff702bb",
   "metadata": {},
   "outputs": [
    {
     "name": "stdout",
     "output_type": "stream",
     "text": [
      "{'x': [1], 'y': [1], 'z': [2]}\n"
     ]
    }
   ],
   "source": [
    "#30)Write a Python program to convert a list of tuples into a dictionary.\n",
    "\n",
    "l=[(\"x\",1),(\"y\",1),(\"z\",2)]\n",
    "d={}\n",
    "for  a,b in l :\n",
    "    d.setdefault(a,[]).append(b)\n",
    "print(d)"
   ]
  },
  {
   "cell_type": "code",
   "execution_count": 26,
   "id": "2940efe5",
   "metadata": {},
   "outputs": [
    {
     "name": "stdout",
     "output_type": "stream",
     "text": [
      "{5: 'smit', 'TutorialsPoint': 8, 6: 'paras', 'Python': 9, 7: 'raj'}\n"
     ]
    }
   ],
   "source": [
    "#31)How will you create a dictionary using tuples in python? --\n",
    "\n",
    "t1=(5, \"TutorialsPoint\", 6, \"Python\",7, \"Codes\")\n",
    "t2=(\"smit\",8,\"paras\",9,\"raj\")\n",
    "print(dict(zip(t1,t2)))\n",
    "\n"
   ]
  },
  {
   "cell_type": "code",
   "execution_count": 25,
   "id": "aa151834",
   "metadata": {},
   "outputs": [
    {
     "name": "stdout",
     "output_type": "stream",
     "text": [
      "[(1, 'abc'), (2, 'def'), (3, 'stu'), (4, 'xyz')]\n"
     ]
    }
   ],
   "source": [
    "#32)Write a Python script to sort (ascending and descending) a dictionary by value. --\n",
    "\n",
    "d1={1:\"abc\",4:\"xyz\",3:\"stu\",2:\"def\"}\n",
    "x=sorted(d1.items(0))\n",
    "print(x)\n",
    "    \n",
    "\n"
   ]
  },
  {
   "cell_type": "code",
   "execution_count": 26,
   "id": "a5870302",
   "metadata": {},
   "outputs": [
    {
     "name": "stdout",
     "output_type": "stream",
     "text": [
      "{1: 10, 2: 20, 3: 30, 4: 40, 5: 50, 6: 60}\n"
     ]
    }
   ],
   "source": [
    "#33)Write a Python script to concatenate following dictionaries to create a new one.\n",
    "\n",
    "d1={1:10,2:20}\n",
    "d2={3:30,4:40}\n",
    "d3={5:50,6:60}\n",
    "d4={}\n",
    "\n",
    "for i in (d1,d2,d3):\n",
    "    d4.update(i)\n",
    "print(d4)\n",
    "\n",
    "\n"
   ]
  },
  {
   "cell_type": "code",
   "execution_count": 12,
   "id": "023e2357",
   "metadata": {},
   "outputs": [
    {
     "name": "stdout",
     "output_type": "stream",
     "text": [
      "key is not exists\n",
      "key is already exists\n",
      "key is not exists\n"
     ]
    }
   ],
   "source": [
    "#34)Write a Python script to check if a given key already exists in a dictionary.\n",
    "d={1:20,2:30,3:40,4:50,5:60}\n",
    "def key_present(i):\n",
    "    if i in d:\n",
    "        if d.keys():\n",
    "            print('key is already exists')\n",
    "    else:\n",
    "        print('key is not exists')\n",
    "key_present(44)\n",
    "key_present(5)\n",
    "key_present(50)"
   ]
  },
  {
   "cell_type": "code",
   "execution_count": 6,
   "id": "63b0db81",
   "metadata": {},
   "outputs": [
    {
     "name": "stdout",
     "output_type": "stream",
     "text": [
      "1 a\n",
      "2 b\n",
      "3 c\n"
     ]
    }
   ],
   "source": [
    "#35)How Do You Traverse Through A Dictionary Object In Python? --\n",
    "\n",
    "d1={1:\"a\",2:\"b\",3:\"c\"}\n",
    "for i in d1.keys():\n",
    "    print(i,d1[i])\n",
    "\n"
   ]
  },
  {
   "cell_type": "code",
   "execution_count": 13,
   "id": "34ff69f6",
   "metadata": {},
   "outputs": [
    {
     "name": "stdout",
     "output_type": "stream",
     "text": [
      "False\n"
     ]
    }
   ],
   "source": [
    "#36)How Do You Check The Presence Of A Key In A Dictionary?\n",
    "\n",
    "d={2:3,874:55.5}\n",
    "key=10\n",
    "if key in d.keys():\n",
    "    print(True)\n",
    "else:\n",
    "    print(False)\n"
   ]
  },
  {
   "cell_type": "code",
   "execution_count": 1,
   "id": "af9e3457",
   "metadata": {},
   "outputs": [
    {
     "name": "stdout",
     "output_type": "stream",
     "text": [
      "2 3\n",
      "5 99\n"
     ]
    }
   ],
   "source": [
    "#37)Write a Python script to print a dictionary where the keys are numbers between 1 and 15.\n",
    "d={2:3,5:99}\n",
    "\n",
    "for k ,v in d.items():\n",
    "    if k>=1 and k<=15:\n",
    "        print(k,v)\n"
   ]
  },
  {
   "cell_type": "code",
   "execution_count": 18,
   "id": "7a2662ee",
   "metadata": {},
   "outputs": [
    {
     "name": "stdout",
     "output_type": "stream",
     "text": [
      "False\n",
      "False\n",
      "False\n"
     ]
    }
   ],
   "source": [
    "#38)Write a Python program to check multiple keys exists in a dictionary.\n",
    "\n",
    "d1={\n",
    "    'name':'smit',\n",
    "    'class':'first',\n",
    "    'rollnum':33}\n",
    "\n",
    "print(d1.keys() >= {'name','smit'})\n",
    "print(d1.keys() >= {'class','first'})\n",
    "print(d1.keys() >= {'rollnum', 33})\n",
    "\n"
   ]
  },
  {
   "cell_type": "code",
   "execution_count": 15,
   "id": "87607224",
   "metadata": {},
   "outputs": [
    {
     "name": "stdout",
     "output_type": "stream",
     "text": [
      "False\n"
     ]
    }
   ],
   "source": [
    "p1={\n",
    "    \n",
    "    'name':'parth',\n",
    "    'class':'bca',\n",
    "    'rollnum':'78'}\n",
    "    \n",
    "    \n",
    "    \n",
    "print(p1.keys() >= {'name','parth'})\n"
   ]
  },
  {
   "cell_type": "code",
   "execution_count": 2,
   "id": "d1bf2dc3",
   "metadata": {},
   "outputs": [
    {
     "name": "stdout",
     "output_type": "stream",
     "text": [
      "1\n",
      "2\n",
      "3\n",
      "4\n"
     ]
    }
   ],
   "source": [
    "d1={1:2,2:3,3:4,4:5,1:8,2:5}\n",
    "x=d1.keys()\n",
    "for x in d1:\n",
    "    print(x)\n"
   ]
  },
  {
   "cell_type": "code",
   "execution_count": 35,
   "id": "f485dd84",
   "metadata": {},
   "outputs": [
    {
     "name": "stdout",
     "output_type": "stream",
     "text": [
      "{'a': 100, 'b': 200, 'c': 300, 'd': 400, 'e': 500, 'f': 600}\n"
     ]
    }
   ],
   "source": [
    "#39)Write a Python script to merge two Python dictionaries.\n",
    "\n",
    "d1={'a':100,'b':200,'c':300}\n",
    "d2={'d':400,'e':500,'f':600}\n",
    "\n",
    "\n",
    "d1.update(d2)\n",
    "\n",
    "print(d1)"
   ]
  },
  {
   "cell_type": "code",
   "execution_count": 36,
   "id": "c14ec575",
   "metadata": {},
   "outputs": [
    {
     "name": "stdout",
     "output_type": "stream",
     "text": [
      "{'python': 12, 'java': 11, 'php': 32}\n"
     ]
    }
   ],
   "source": [
    "#40)Write a Python program to map two lists into a dictionary.\n",
    "\n",
    "a=[12,11,32]\n",
    "d=['python','java','php']\n",
    "dict1=dict(zip(d,a))\n",
    "print(dict1)\n",
    "\n",
    "      "
   ]
  },
  {
   "cell_type": "code",
   "execution_count": 37,
   "id": "bf1a9b08",
   "metadata": {},
   "outputs": [
    {
     "name": "stdout",
     "output_type": "stream",
     "text": [
      "{'a': 66, 'b': 44, 'c': 77, 'd': 99}\n"
     ]
    }
   ],
   "source": [
    "#41)Write a Python program to combine two dictionary adding values for \n",
    "#common keys.\n",
    "#o d1 = {'a': 100, 'b': 200, 'c':300}\n",
    "#o d2 = {'a': 300, 'b': 200,’d’:400}\n",
    "# Sample output: Counter ({'a': 400, 'b': 400,’d’: 400, 'c': 300}).\n",
    "\n",
    "\n",
    "d1={'a':11,'b':22,'c':33,'d':44}\n",
    "d2={'a':55,'b':22,'c':44,'d':55}\n",
    "\n",
    "for key in d1:\n",
    "    if key in d2:\n",
    "        d1[key]=d1[key]+d2[key]\n",
    "    else:\n",
    "        d1[key]=d2[key]\n",
    "print(d1)"
   ]
  },
  {
   "cell_type": "code",
   "execution_count": 1,
   "id": "c07c8095",
   "metadata": {},
   "outputs": [
    {
     "name": "stdout",
     "output_type": "stream",
     "text": [
      "{'harsh', 'smit', 'mihit', 'parth'}\n"
     ]
    }
   ],
   "source": [
    "#42)Write a Python program to print all unique values in a dictionary.\n",
    "\n",
    "d={1:'smit',2:'mihit',3:'parth',4:'harsh',5:'mihit'}\n",
    "print(set(d.values()))\n"
   ]
  },
  {
   "cell_type": "code",
   "execution_count": null,
   "id": "bba3ad02",
   "metadata": {},
   "outputs": [],
   "source": []
  }
 ],
 "metadata": {
  "kernelspec": {
   "display_name": "Python 3 (ipykernel)",
   "language": "python",
   "name": "python3"
  },
  "language_info": {
   "codemirror_mode": {
    "name": "ipython",
    "version": 3
   },
   "file_extension": ".py",
   "mimetype": "text/x-python",
   "name": "python",
   "nbconvert_exporter": "python",
   "pygments_lexer": "ipython3",
   "version": "3.10.9"
  }
 },
 "nbformat": 4,
 "nbformat_minor": 5
}
